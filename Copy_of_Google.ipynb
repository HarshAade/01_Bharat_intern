{
  "nbformat": 4,
  "nbformat_minor": 0,
  "metadata": {
    "colab": {
      "provenance": [],
      "authorship_tag": "ABX9TyMNmsotFb5TgS2XjuFyy5n9"
    },
    "kernelspec": {
      "name": "python3",
      "display_name": "Python 3"
    },
    "language_info": {
      "name": "python"
    }
  },
  "cells": [
    {
      "cell_type": "markdown",
      "source": [
        "# Task-01\n",
        "### Stock Prediction :-\n",
        "Take stock price of any company you want and predicts its price by using LSTM"
      ],
      "metadata": {
        "id": "GrjroXudQp55"
      }
    },
    {
      "cell_type": "markdown",
      "source": [
        "### Tesla Stock price prediction\n",
        "Stock Market Prediction involves the use of data and models to forecast the future value of company stocks** and other financial instruments traded on an exchange.\n",
        "\n",
        "In this project, we employed machine learning techniques, specifically Linear Regression and Long Short-Term Memory (LSTM) networks, to construct our stock market price prediction models for two different companies, Tesla and Google\n",
        "\n",
        "Linear Regression is a supervised learning algorithm used to predict continuous outcomes. It finds applications in various domains, such as estimating a company's total revenue, forecasting product sales, making weather predictions, and even predicting stock market trends"
      ],
      "metadata": {
        "id": "o5wrudyhQpzp"
      }
    },
    {
      "cell_type": "markdown",
      "source": [
        "In the equation (y = mx + c), which represents a linear regression model:\n",
        "\n",
        "        (y) represents the dependent variable or the predicted outcome.\n",
        "        (x) represents the independent variable or the input feature.\n",
        "        (m) is the slope of the line, which represents how much (y) changes for a unit change in (x).\n",
        "        (c) is the intercept, which is the value of (y) when (x) is 0.\n",
        "\n"
      ],
      "metadata": {
        "id": "406TPBpGQ7SW"
      }
    },
    {
      "cell_type": "code",
      "source": [
        "import pandas as pd\n",
        "import numpy as np\n",
        "import matplotlib.pyplot as plt\n",
        "%matplotlib inline\n",
        "\n",
        "import chart_studio.plotly as py\n",
        "import plotly.graph_objs as go\n",
        "from plotly.offline import plot\n",
        "\n",
        "# For Offline plotting\n",
        "from plotly.offline import download_plotlyjs , init_notebook_mode , plot , iplot\n",
        "init_notebook_mode(connected=True)\n"
      ],
      "metadata": {
        "colab": {
          "base_uri": "https://localhost:8080/",
          "height": 17
        },
        "id": "1wv2QJX6Rrkg",
        "outputId": "276bb716-0e03-423d-bd40-1e6390f1e30a"
      },
      "execution_count": null,
      "outputs": [
        {
          "output_type": "display_data",
          "data": {
            "text/html": [
              "        <script type=\"text/javascript\">\n",
              "        window.PlotlyConfig = {MathJaxConfig: 'local'};\n",
              "        if (window.MathJax && window.MathJax.Hub && window.MathJax.Hub.Config) {window.MathJax.Hub.Config({SVG: {font: \"STIX-Web\"}});}\n",
              "        if (typeof require !== 'undefined') {\n",
              "        require.undef(\"plotly\");\n",
              "        requirejs.config({\n",
              "            paths: {\n",
              "                'plotly': ['https://cdn.plot.ly/plotly-2.24.1.min']\n",
              "            }\n",
              "        });\n",
              "        require(['plotly'], function(Plotly) {\n",
              "            window._Plotly = Plotly;\n",
              "        });\n",
              "        }\n",
              "        </script>\n",
              "        "
            ]
          },
          "metadata": {}
        }
      ]
    },
    {
      "cell_type": "code",
      "source": [
        "tesla = pd.read_csv('tesla.csv')"
      ],
      "metadata": {
        "id": "PO-qRaYASXyC"
      },
      "execution_count": null,
      "outputs": []
    },
    {
      "cell_type": "code",
      "source": [
        "tesla.info()"
      ],
      "metadata": {
        "colab": {
          "base_uri": "https://localhost:8080/"
        },
        "id": "5sSW3qVoSX00",
        "outputId": "93e56f97-4beb-47aa-b166-6b0ca98fb899"
      },
      "execution_count": null,
      "outputs": [
        {
          "output_type": "stream",
          "name": "stdout",
          "text": [
            "<class 'pandas.core.frame.DataFrame'>\n",
            "RangeIndex: 2193 entries, 0 to 2192\n",
            "Data columns (total 7 columns):\n",
            " #   Column     Non-Null Count  Dtype  \n",
            "---  ------     --------------  -----  \n",
            " 0   Date       2193 non-null   object \n",
            " 1   Open       2193 non-null   float64\n",
            " 2   High       2193 non-null   float64\n",
            " 3   Low        2193 non-null   float64\n",
            " 4   Close      2193 non-null   float64\n",
            " 5   Adj Close  2193 non-null   float64\n",
            " 6   Volume     2193 non-null   int64  \n",
            "dtypes: float64(5), int64(1), object(1)\n",
            "memory usage: 120.1+ KB\n"
          ]
        }
      ]
    },
    {
      "cell_type": "code",
      "source": [
        "tesla['Date'] = pd.to_datetime(tesla['Date'])\n",
        "# Coverting Date column into Datetime format using pandas libaray and its fuction"
      ],
      "metadata": {
        "id": "sw9FeT9DSX3y"
      },
      "execution_count": null,
      "outputs": []
    },
    {
      "cell_type": "code",
      "source": [
        "print(f'Dataframe Contains Stock Price Between {tesla.Date.min()} {tesla.Date.max()}')\n",
        "print(f'Total Days = {(tesla.Date.max() - tesla.Date.min()).days} Days')\n",
        "\n",
        "# simply i have just display the max date and min date and calcaulated total days"
      ],
      "metadata": {
        "colab": {
          "base_uri": "https://localhost:8080/"
        },
        "id": "QC_NmFehSX6Y",
        "outputId": "da94544e-bcbc-4079-9629-25ce340ab3ae"
      },
      "execution_count": null,
      "outputs": [
        {
          "output_type": "stream",
          "name": "stdout",
          "text": [
            "Dataframe Contains Stock Price Between 2010-01-07 00:00:00 2019-12-03 00:00:00\n",
            "Total Days = 3617 Days\n"
          ]
        }
      ]
    },
    {
      "cell_type": "code",
      "source": [
        "tesla.describe()"
      ],
      "metadata": {
        "colab": {
          "base_uri": "https://localhost:8080/",
          "height": 300
        },
        "id": "V4T4bL-fSX9I",
        "outputId": "6a84c7bb-a1e2-4c65-fa9d-c4b89440e000"
      },
      "execution_count": null,
      "outputs": [
        {
          "output_type": "execute_result",
          "data": {
            "text/plain": [
              "              Open         High          Low        Close    Adj Close  \\\n",
              "count  2193.000000  2193.000000  2193.000000  2193.000000  2193.000000   \n",
              "mean    175.652882   178.710262   172.412075   175.648555   175.648555   \n",
              "std     115.580903   117.370092   113.654794   115.580771   115.580771   \n",
              "min      16.139999    16.629999    14.980000    15.800000    15.800000   \n",
              "25%      33.110001    33.910000    32.459999    33.160000    33.160000   \n",
              "50%     204.990005   208.160004   201.669998   204.990005   204.990005   \n",
              "75%     262.000000   265.329987   256.209991   261.739990   261.739990   \n",
              "max     386.690002   389.609985   379.350006   385.000000   385.000000   \n",
              "\n",
              "             Volume  \n",
              "count  2.193000e+03  \n",
              "mean   5.077449e+06  \n",
              "std    4.545398e+06  \n",
              "min    1.185000e+05  \n",
              "25%    1.577800e+06  \n",
              "50%    4.171700e+06  \n",
              "75%    6.885600e+06  \n",
              "max    3.716390e+07  "
            ],
            "text/html": [
              "\n",
              "  <div id=\"df-f9702e17-5f70-4038-93de-52aaa54c3d65\" class=\"colab-df-container\">\n",
              "    <div>\n",
              "<style scoped>\n",
              "    .dataframe tbody tr th:only-of-type {\n",
              "        vertical-align: middle;\n",
              "    }\n",
              "\n",
              "    .dataframe tbody tr th {\n",
              "        vertical-align: top;\n",
              "    }\n",
              "\n",
              "    .dataframe thead th {\n",
              "        text-align: right;\n",
              "    }\n",
              "</style>\n",
              "<table border=\"1\" class=\"dataframe\">\n",
              "  <thead>\n",
              "    <tr style=\"text-align: right;\">\n",
              "      <th></th>\n",
              "      <th>Open</th>\n",
              "      <th>High</th>\n",
              "      <th>Low</th>\n",
              "      <th>Close</th>\n",
              "      <th>Adj Close</th>\n",
              "      <th>Volume</th>\n",
              "    </tr>\n",
              "  </thead>\n",
              "  <tbody>\n",
              "    <tr>\n",
              "      <th>count</th>\n",
              "      <td>2193.000000</td>\n",
              "      <td>2193.000000</td>\n",
              "      <td>2193.000000</td>\n",
              "      <td>2193.000000</td>\n",
              "      <td>2193.000000</td>\n",
              "      <td>2.193000e+03</td>\n",
              "    </tr>\n",
              "    <tr>\n",
              "      <th>mean</th>\n",
              "      <td>175.652882</td>\n",
              "      <td>178.710262</td>\n",
              "      <td>172.412075</td>\n",
              "      <td>175.648555</td>\n",
              "      <td>175.648555</td>\n",
              "      <td>5.077449e+06</td>\n",
              "    </tr>\n",
              "    <tr>\n",
              "      <th>std</th>\n",
              "      <td>115.580903</td>\n",
              "      <td>117.370092</td>\n",
              "      <td>113.654794</td>\n",
              "      <td>115.580771</td>\n",
              "      <td>115.580771</td>\n",
              "      <td>4.545398e+06</td>\n",
              "    </tr>\n",
              "    <tr>\n",
              "      <th>min</th>\n",
              "      <td>16.139999</td>\n",
              "      <td>16.629999</td>\n",
              "      <td>14.980000</td>\n",
              "      <td>15.800000</td>\n",
              "      <td>15.800000</td>\n",
              "      <td>1.185000e+05</td>\n",
              "    </tr>\n",
              "    <tr>\n",
              "      <th>25%</th>\n",
              "      <td>33.110001</td>\n",
              "      <td>33.910000</td>\n",
              "      <td>32.459999</td>\n",
              "      <td>33.160000</td>\n",
              "      <td>33.160000</td>\n",
              "      <td>1.577800e+06</td>\n",
              "    </tr>\n",
              "    <tr>\n",
              "      <th>50%</th>\n",
              "      <td>204.990005</td>\n",
              "      <td>208.160004</td>\n",
              "      <td>201.669998</td>\n",
              "      <td>204.990005</td>\n",
              "      <td>204.990005</td>\n",
              "      <td>4.171700e+06</td>\n",
              "    </tr>\n",
              "    <tr>\n",
              "      <th>75%</th>\n",
              "      <td>262.000000</td>\n",
              "      <td>265.329987</td>\n",
              "      <td>256.209991</td>\n",
              "      <td>261.739990</td>\n",
              "      <td>261.739990</td>\n",
              "      <td>6.885600e+06</td>\n",
              "    </tr>\n",
              "    <tr>\n",
              "      <th>max</th>\n",
              "      <td>386.690002</td>\n",
              "      <td>389.609985</td>\n",
              "      <td>379.350006</td>\n",
              "      <td>385.000000</td>\n",
              "      <td>385.000000</td>\n",
              "      <td>3.716390e+07</td>\n",
              "    </tr>\n",
              "  </tbody>\n",
              "</table>\n",
              "</div>\n",
              "    <div class=\"colab-df-buttons\">\n",
              "\n",
              "  <div class=\"colab-df-container\">\n",
              "    <button class=\"colab-df-convert\" onclick=\"convertToInteractive('df-f9702e17-5f70-4038-93de-52aaa54c3d65')\"\n",
              "            title=\"Convert this dataframe to an interactive table.\"\n",
              "            style=\"display:none;\">\n",
              "\n",
              "  <svg xmlns=\"http://www.w3.org/2000/svg\" height=\"24px\" viewBox=\"0 -960 960 960\">\n",
              "    <path d=\"M120-120v-720h720v720H120Zm60-500h600v-160H180v160Zm220 220h160v-160H400v160Zm0 220h160v-160H400v160ZM180-400h160v-160H180v160Zm440 0h160v-160H620v160ZM180-180h160v-160H180v160Zm440 0h160v-160H620v160Z\"/>\n",
              "  </svg>\n",
              "    </button>\n",
              "\n",
              "  <style>\n",
              "    .colab-df-container {\n",
              "      display:flex;\n",
              "      gap: 12px;\n",
              "    }\n",
              "\n",
              "    .colab-df-convert {\n",
              "      background-color: #E8F0FE;\n",
              "      border: none;\n",
              "      border-radius: 50%;\n",
              "      cursor: pointer;\n",
              "      display: none;\n",
              "      fill: #1967D2;\n",
              "      height: 32px;\n",
              "      padding: 0 0 0 0;\n",
              "      width: 32px;\n",
              "    }\n",
              "\n",
              "    .colab-df-convert:hover {\n",
              "      background-color: #E2EBFA;\n",
              "      box-shadow: 0px 1px 2px rgba(60, 64, 67, 0.3), 0px 1px 3px 1px rgba(60, 64, 67, 0.15);\n",
              "      fill: #174EA6;\n",
              "    }\n",
              "\n",
              "    .colab-df-buttons div {\n",
              "      margin-bottom: 4px;\n",
              "    }\n",
              "\n",
              "    [theme=dark] .colab-df-convert {\n",
              "      background-color: #3B4455;\n",
              "      fill: #D2E3FC;\n",
              "    }\n",
              "\n",
              "    [theme=dark] .colab-df-convert:hover {\n",
              "      background-color: #434B5C;\n",
              "      box-shadow: 0px 1px 3px 1px rgba(0, 0, 0, 0.15);\n",
              "      filter: drop-shadow(0px 1px 2px rgba(0, 0, 0, 0.3));\n",
              "      fill: #FFFFFF;\n",
              "    }\n",
              "  </style>\n",
              "\n",
              "    <script>\n",
              "      const buttonEl =\n",
              "        document.querySelector('#df-f9702e17-5f70-4038-93de-52aaa54c3d65 button.colab-df-convert');\n",
              "      buttonEl.style.display =\n",
              "        google.colab.kernel.accessAllowed ? 'block' : 'none';\n",
              "\n",
              "      async function convertToInteractive(key) {\n",
              "        const element = document.querySelector('#df-f9702e17-5f70-4038-93de-52aaa54c3d65');\n",
              "        const dataTable =\n",
              "          await google.colab.kernel.invokeFunction('convertToInteractive',\n",
              "                                                    [key], {});\n",
              "        if (!dataTable) return;\n",
              "\n",
              "        const docLinkHtml = 'Like what you see? Visit the ' +\n",
              "          '<a target=\"_blank\" href=https://colab.research.google.com/notebooks/data_table.ipynb>data table notebook</a>'\n",
              "          + ' to learn more about interactive tables.';\n",
              "        element.innerHTML = '';\n",
              "        dataTable['output_type'] = 'display_data';\n",
              "        await google.colab.output.renderOutput(dataTable, element);\n",
              "        const docLink = document.createElement('div');\n",
              "        docLink.innerHTML = docLinkHtml;\n",
              "        element.appendChild(docLink);\n",
              "      }\n",
              "    </script>\n",
              "  </div>\n",
              "\n",
              "\n",
              "<div id=\"df-f4ae2cd2-cc51-4d91-a761-108a55f7aec1\">\n",
              "  <button class=\"colab-df-quickchart\" onclick=\"quickchart('df-f4ae2cd2-cc51-4d91-a761-108a55f7aec1')\"\n",
              "            title=\"Suggest charts.\"\n",
              "            style=\"display:none;\">\n",
              "\n",
              "<svg xmlns=\"http://www.w3.org/2000/svg\" height=\"24px\"viewBox=\"0 0 24 24\"\n",
              "     width=\"24px\">\n",
              "    <g>\n",
              "        <path d=\"M19 3H5c-1.1 0-2 .9-2 2v14c0 1.1.9 2 2 2h14c1.1 0 2-.9 2-2V5c0-1.1-.9-2-2-2zM9 17H7v-7h2v7zm4 0h-2V7h2v10zm4 0h-2v-4h2v4z\"/>\n",
              "    </g>\n",
              "</svg>\n",
              "  </button>\n",
              "\n",
              "<style>\n",
              "  .colab-df-quickchart {\n",
              "      --bg-color: #E8F0FE;\n",
              "      --fill-color: #1967D2;\n",
              "      --hover-bg-color: #E2EBFA;\n",
              "      --hover-fill-color: #174EA6;\n",
              "      --disabled-fill-color: #AAA;\n",
              "      --disabled-bg-color: #DDD;\n",
              "  }\n",
              "\n",
              "  [theme=dark] .colab-df-quickchart {\n",
              "      --bg-color: #3B4455;\n",
              "      --fill-color: #D2E3FC;\n",
              "      --hover-bg-color: #434B5C;\n",
              "      --hover-fill-color: #FFFFFF;\n",
              "      --disabled-bg-color: #3B4455;\n",
              "      --disabled-fill-color: #666;\n",
              "  }\n",
              "\n",
              "  .colab-df-quickchart {\n",
              "    background-color: var(--bg-color);\n",
              "    border: none;\n",
              "    border-radius: 50%;\n",
              "    cursor: pointer;\n",
              "    display: none;\n",
              "    fill: var(--fill-color);\n",
              "    height: 32px;\n",
              "    padding: 0;\n",
              "    width: 32px;\n",
              "  }\n",
              "\n",
              "  .colab-df-quickchart:hover {\n",
              "    background-color: var(--hover-bg-color);\n",
              "    box-shadow: 0 1px 2px rgba(60, 64, 67, 0.3), 0 1px 3px 1px rgba(60, 64, 67, 0.15);\n",
              "    fill: var(--button-hover-fill-color);\n",
              "  }\n",
              "\n",
              "  .colab-df-quickchart-complete:disabled,\n",
              "  .colab-df-quickchart-complete:disabled:hover {\n",
              "    background-color: var(--disabled-bg-color);\n",
              "    fill: var(--disabled-fill-color);\n",
              "    box-shadow: none;\n",
              "  }\n",
              "\n",
              "  .colab-df-spinner {\n",
              "    border: 2px solid var(--fill-color);\n",
              "    border-color: transparent;\n",
              "    border-bottom-color: var(--fill-color);\n",
              "    animation:\n",
              "      spin 1s steps(1) infinite;\n",
              "  }\n",
              "\n",
              "  @keyframes spin {\n",
              "    0% {\n",
              "      border-color: transparent;\n",
              "      border-bottom-color: var(--fill-color);\n",
              "      border-left-color: var(--fill-color);\n",
              "    }\n",
              "    20% {\n",
              "      border-color: transparent;\n",
              "      border-left-color: var(--fill-color);\n",
              "      border-top-color: var(--fill-color);\n",
              "    }\n",
              "    30% {\n",
              "      border-color: transparent;\n",
              "      border-left-color: var(--fill-color);\n",
              "      border-top-color: var(--fill-color);\n",
              "      border-right-color: var(--fill-color);\n",
              "    }\n",
              "    40% {\n",
              "      border-color: transparent;\n",
              "      border-right-color: var(--fill-color);\n",
              "      border-top-color: var(--fill-color);\n",
              "    }\n",
              "    60% {\n",
              "      border-color: transparent;\n",
              "      border-right-color: var(--fill-color);\n",
              "    }\n",
              "    80% {\n",
              "      border-color: transparent;\n",
              "      border-right-color: var(--fill-color);\n",
              "      border-bottom-color: var(--fill-color);\n",
              "    }\n",
              "    90% {\n",
              "      border-color: transparent;\n",
              "      border-bottom-color: var(--fill-color);\n",
              "    }\n",
              "  }\n",
              "</style>\n",
              "\n",
              "  <script>\n",
              "    async function quickchart(key) {\n",
              "      const quickchartButtonEl =\n",
              "        document.querySelector('#' + key + ' button');\n",
              "      quickchartButtonEl.disabled = true;  // To prevent multiple clicks.\n",
              "      quickchartButtonEl.classList.add('colab-df-spinner');\n",
              "      try {\n",
              "        const charts = await google.colab.kernel.invokeFunction(\n",
              "            'suggestCharts', [key], {});\n",
              "      } catch (error) {\n",
              "        console.error('Error during call to suggestCharts:', error);\n",
              "      }\n",
              "      quickchartButtonEl.classList.remove('colab-df-spinner');\n",
              "      quickchartButtonEl.classList.add('colab-df-quickchart-complete');\n",
              "    }\n",
              "    (() => {\n",
              "      let quickchartButtonEl =\n",
              "        document.querySelector('#df-f4ae2cd2-cc51-4d91-a761-108a55f7aec1 button');\n",
              "      quickchartButtonEl.style.display =\n",
              "        google.colab.kernel.accessAllowed ? 'block' : 'none';\n",
              "    })();\n",
              "  </script>\n",
              "</div>\n",
              "    </div>\n",
              "  </div>\n"
            ]
          },
          "metadata": {},
          "execution_count": 39
        }
      ]
    },
    {
      "cell_type": "code",
      "source": [
        "tesla[['Open','High','Low','Close','Adj Close']].plot(kind='box')"
      ],
      "metadata": {
        "colab": {
          "base_uri": "https://localhost:8080/",
          "height": 448
        },
        "id": "6H0cIQwxSX__",
        "outputId": "ce8f323f-56d6-4250-bbf5-5057e1d49f51"
      },
      "execution_count": null,
      "outputs": [
        {
          "output_type": "execute_result",
          "data": {
            "text/plain": [
              "<Axes: >"
            ]
          },
          "metadata": {},
          "execution_count": 40
        },
        {
          "output_type": "display_data",
          "data": {
            "text/plain": [
              "<Figure size 640x480 with 1 Axes>"
            ],
            "image/png": "[encoded data removed]"
          },
          "metadata": {}
        }
      ]
    },
    {
      "cell_type": "code",
      "source": [
        "import plotly.graph_objs as go\n",
        "\n",
        "# Define the trace for Tesla stock prices\n",
        "tesla_trace = go.Scatter(\n",
        "    x=tesla['Date'],\n",
        "    y=tesla['Close'],\n",
        "    mode='lines+markers',\n",
        "    name='Tesla Stock Close Price',\n",
        "    line=dict(color='blue', width=2),  # Customize line color and width\n",
        "    marker=dict(size=8, color='red', symbol='circle'),  # Customize marker size, color, and symbol\n",
        ")\n",
        "\n",
        "# Create a layout for the plot\n",
        "layout = go.Layout(\n",
        "    title='Tesla Stock Price',\n",
        "    title_font=dict(size=24, color='navy', family='Arial'),  # Customize title font, size, and color\n",
        "    xaxis=dict(title='Date', showgrid=True, titlefont=dict(size=18)),  # Customize x-axis label and grid\n",
        "    yaxis=dict(title='Price', showgrid=True, titlefont=dict(size=18)),  # Customize y-axis label and grid\n",
        "    paper_bgcolor='lightgray',  # Customize plot background color\n",
        ")\n",
        "\n",
        "# Create a Figure and add the trace to it\n",
        "plot = go.Figure(data=[tesla_trace], layout=layout)\n",
        "\n",
        "# Display the plot\n",
        "plot.show()\n"
      ],
      "metadata": {
        "id": "1YV6O0hNSYCt"
      },
      "execution_count": null,
      "outputs": []
    },
    {
      "cell_type": "code",
      "source": [
        "# Building  the regression model\n",
        "from sklearn.model_selection import train_test_split\n",
        "\n",
        "# for preprocessing\n",
        "from sklearn.preprocessing import MinMaxScaler\n",
        "from sklearn.preprocessing import StandardScaler\n",
        "\n",
        "# for model evalution\n",
        "from sklearn.metrics import mean_squared_error as mse\n",
        "from sklearn.metrics import r2_score"
      ],
      "metadata": {
        "id": "LB1RQVzuSYFc"
      },
      "execution_count": null,
      "outputs": []
    },
    {
      "cell_type": "code",
      "source": [
        "# split the data into train and test sets\n",
        "X = np.array(tesla.index).reshape(-1,1)\n",
        "Y = tesla['Close']\n",
        "X_train , X_test , Y_train ,Y_test = train_test_split(X,Y, test_size = 0.3 , random_state = 101)"
      ],
      "metadata": {
        "id": "3L2s82WrSYI5"
      },
      "execution_count": null,
      "outputs": []
    },
    {
      "cell_type": "code",
      "source": [
        "# feature scaling\n",
        "scaler = StandardScaler().fit(X_train)"
      ],
      "metadata": {
        "id": "CTxCrPIYSYLv"
      },
      "execution_count": null,
      "outputs": []
    },
    {
      "cell_type": "code",
      "source": [
        "from sklearn.linear_model import LinearRegression"
      ],
      "metadata": {
        "id": "g14cgQSbSYOg"
      },
      "execution_count": null,
      "outputs": []
    },
    {
      "cell_type": "code",
      "source": [
        "#plot actual and predicted values for train dataset\n",
        "trace0 = go.Scatter(\n",
        "     x = X_train.T[0],\n",
        "     y = Y_train,\n",
        "     mode = 'markers' ,\n",
        "     name = 'Actual'\n",
        ")\n",
        "trace1 = go.Scatter(\n",
        "     x = X_train.T[0],\n",
        "     y = lm.predict(X_train).T ,\n",
        "     mode = 'lines' ,\n",
        "     name = 'Predicted'\n",
        ")\n",
        "\n",
        "tesla_data = [trace0,trace1]\n",
        "layout.xaxis.title.text = 'Day'\n",
        "plot2 = go.Figure(data=tesla_data,layout=layout)"
      ],
      "metadata": {
        "id": "o1S45g5jSYRE"
      },
      "execution_count": null,
      "outputs": []
    },
    {
      "cell_type": "code",
      "source": [
        "iplot(plot2)"
      ],
      "metadata": {
        "id": "QaXsXlXwSYTi"
      },
      "execution_count": null,
      "outputs": []
    },
    {
      "cell_type": "code",
      "source": [
        "from sklearn.metrics import r2_score, mean_squared_error\n",
        "\n",
        "# Calculate scores for model evaluation\n",
        "train_r2 = r2_score(Y_train, lm.predict(X_train))\n",
        "test_r2 = r2_score(Y_test, lm.predict(X_test))\n",
        "\n",
        "train_mse = mean_squared_error(Y_train, lm.predict(X_train))\n",
        "test_mse = mean_squared_error(Y_test, lm.predict(X_test))\n",
        "\n",
        "# Create a formatted string for displaying scores\n",
        "scores = f'''\n",
        "{'Metric'.ljust(10)}{'Train'.center(20)}{'Test'.center(20)}\n",
        "{'r2_score'.ljust(10)}{train_r2:.2f}\\t{test_r2:.2f}\n",
        "{'MSE'.ljust(10)}{train_mse:.2f}\\t{test_mse:.2f}\n",
        "'''\n",
        "\n",
        "# Split the scores string by newline and print each line separately\n",
        "print(scores)"
      ],
      "metadata": {
        "colab": {
          "base_uri": "https://localhost:8080/"
        },
        "id": "ov3XLXraSYV0",
        "outputId": "34e2ca9c-c89d-48cf-fcb8-a221ea8f0240"
      },
      "execution_count": null,
      "outputs": [
        {
          "output_type": "stream",
          "name": "stdout",
          "text": [
            "\n",
            "Metric           Train                Test        \n",
            "r2_score  0.87\t0.86\n",
            "MSE       1821.38\t1780.99\n",
            "\n"
          ]
        }
      ]
    },
    {
      "cell_type": "markdown",
      "source": [
        "## Predicting Google Stock Prices with LSTM"
      ],
      "metadata": {
        "id": "WTO3TSAT4SW0"
      }
    },
    {
      "cell_type": "markdown",
      "source": [
        "\n",
        "\n",
        "**LSTM (Long Short-Term Memory) Networks for Sequential Data Prediction**\n",
        "\n",
        "LSTMs are a type of Recurrent Neural Network (RNN) designed for processing sequential data, such as time series, making them valuable for predicting stock prices, weather patterns, or understanding language.\n",
        "\n",
        "**Three Key Steps of LSTM Operation:**\n",
        "\n",
        "1. **Forgetting Irrelevant Information:**\n",
        "   - LSTMs decide which information from the previous state is irrelevant for the current task using a \"forget gate.\"\n",
        "   - The forget gate is controlled by a sigmoid function:\n",
        "     ```\n",
        "     Forget Gate = sigmoid(W_f * [h_(t-1), x_t] + b_f)\n",
        "     ```\n",
        "     Where W_f represents the weight matrix, and b_f is the bias.\n",
        "\n",
        "2. **Updating the Cell State:**\n",
        "   - LSTMs selectively update the cell state based on new input and previously retained information.\n",
        "   - They use \"input gates\" to determine what to add to the cell state and \"output gates\" to control what parts of the cell state should be exposed to the next steps.\n",
        "   - Formulas for input and output gates:\n",
        "     ```\n",
        "     Input Gate = sigmoid(W_i * [h_(t-1), x_t] + b_i)\n",
        "     Output Gate = sigmoid(W_o * [h_(t-1), x_t] + b_o)\n",
        "     ```\n",
        "\n",
        "3. **Outputting Relevant Information:**\n",
        "   - LSTMs produce an output by considering the current cell state and deciding which parts are relevant for the specific prediction or task.\n",
        "   - The cell state update is defined as:\n",
        "     ```\n",
        "     Cell State (t) = Cell State (t-1) ⊙ Forget Gate + Input Gate ⊙ Tanh(W_c * [h_(t-1), x_t] + b_c)\n",
        "     ```\n",
        "   - The final output is determined as:\n",
        "     ```\n",
        "     Output (t) = Output Gate ⊙ Tanh(Cell State (t))\n",
        "     ```\n",
        "\n",
        "In summary, LSTMs are capable of:\n",
        "1. **Forgetting Irrelevant Parts:** They decide what information to forget from the past.\n",
        "2. **Selective Updates:** They update the cell state selectively based on new input.\n",
        "3. **Outputting Relevant Information:** They decide which parts of the cell state are relevant for the current prediction or task.\n",
        "\n",
        "LSTMs are highly effective at capturing long-term dependencies in sequential data, making them suitable for a wide range of applications involving time series and sequential information."
      ],
      "metadata": {
        "id": "BKH0SodH3Zii"
      }
    },
    {
      "cell_type": "code",
      "source": [
        "# Importing Libraries for LSTM Model\n",
        "# NumPy and Pandas for numerical computation and data manipulation\n",
        "import numpy as np\n",
        "import pandas as pd\n",
        "# Matplotlib for data visualization\n",
        "import matplotlib.pyplot as plt\n",
        "# MinMaxScaler from Scikit-Learn for feature scaling\n",
        "from sklearn.preprocessing import MinMaxScaler\n",
        "# Sequential, Dense, LSTM, and Dropout layers from Keras for building the LSTM model\n",
        "from keras.models import Sequential\n",
        "from keras.layers import Dense, LSTM, Dropout\n",
        "# Explanation:\n",
        "# - NumPy and Pandas are used for numerical computations and data manipulation.\n",
        "# - Matplotlib is used for data visualization.\n",
        "# - MinMaxScaler from Scikit-Learn is used to scale features to a specified range.\n",
        "# - Sequential is from Keras and is used to create a sequential neural network model.\n",
        "# - Dense is a fully connected neural network layer.\n",
        "# - LSTM is a type of recurrent layer specialized for sequence data.\n",
        "# - Dropout is a regularization technique to prevent overfitting in the model."
      ],
      "metadata": {
        "id": "xDScZipwEPUm"
      },
      "execution_count": null,
      "outputs": []
    },
    {
      "cell_type": "code",
      "source": [
        "# Importing the Data\n",
        "data = pd.read_csv('Google_train_data.csv')"
      ],
      "metadata": {
        "id": "YKbxCRwAYrDL"
      },
      "execution_count": null,
      "outputs": []
    },
    {
      "cell_type": "code",
      "source": [
        "# Displaying the First 6 Rows of the Data\n",
        "data.head(6)"
      ],
      "metadata": {
        "colab": {
          "base_uri": "https://localhost:8080/",
          "height": 237
        },
        "id": "Um-q0JanbhRT",
        "outputId": "1ea60fe2-550f-4f37-eb58-9b44ccad5675"
      },
      "execution_count": null,
      "outputs": [
        {
          "output_type": "execute_result",
          "data": {
            "text/plain": [
              "        Date    Open    High     Low   Close      Volume\n",
              "0   1/3/2012  325.25  332.83  324.97  663.59   7,380,500\n",
              "1   1/4/2012  331.27  333.87  329.08  666.45   5,749,400\n",
              "2   1/5/2012  329.83  330.75  326.89  657.21   6,590,300\n",
              "3   1/6/2012  328.34  328.77  323.68  648.24   5,405,900\n",
              "4   1/9/2012  322.04  322.29  309.46  620.76  11,688,800\n",
              "5  1/10/2012  313.70  315.72  307.30  621.43   8,824,000"
            ],
            "text/html": [
              "\n",
              "  <div id=\"df-0507bf70-cbbb-4ab7-aea6-8ae478840182\" class=\"colab-df-container\">\n",
              "    <div>\n",
              "<style scoped>\n",
              "    .dataframe tbody tr th:only-of-type {\n",
              "        vertical-align: middle;\n",
              "    }\n",
              "\n",
              "    .dataframe tbody tr th {\n",
              "        vertical-align: top;\n",
              "    }\n",
              "\n",
              "    .dataframe thead th {\n",
              "        text-align: right;\n",
              "    }\n",
              "</style>\n",
              "<table border=\"1\" class=\"dataframe\">\n",
              "  <thead>\n",
              "    <tr style=\"text-align: right;\">\n",
              "      <th></th>\n",
              "      <th>Date</th>\n",
              "      <th>Open</th>\n",
              "      <th>High</th>\n",
              "      <th>Low</th>\n",
              "      <th>Close</th>\n",
              "      <th>Volume</th>\n",
              "    </tr>\n",
              "  </thead>\n",
              "  <tbody>\n",
              "    <tr>\n",
              "      <th>0</th>\n",
              "      <td>1/3/2012</td>\n",
              "      <td>325.25</td>\n",
              "      <td>332.83</td>\n",
              "      <td>324.97</td>\n",
              "      <td>663.59</td>\n",
              "      <td>7,380,500</td>\n",
              "    </tr>\n",
              "    <tr>\n",
              "      <th>1</th>\n",
              "      <td>1/4/2012</td>\n",
              "      <td>331.27</td>\n",
              "      <td>333.87</td>\n",
              "      <td>329.08</td>\n",
              "      <td>666.45</td>\n",
              "      <td>5,749,400</td>\n",
              "    </tr>\n",
              "    <tr>\n",
              "      <th>2</th>\n",
              "      <td>1/5/2012</td>\n",
              "      <td>329.83</td>\n",
              "      <td>330.75</td>\n",
              "      <td>326.89</td>\n",
              "      <td>657.21</td>\n",
              "      <td>6,590,300</td>\n",
              "    </tr>\n",
              "    <tr>\n",
              "      <th>3</th>\n",
              "      <td>1/6/2012</td>\n",
              "      <td>328.34</td>\n",
              "      <td>328.77</td>\n",
              "      <td>323.68</td>\n",
              "      <td>648.24</td>\n",
              "      <td>5,405,900</td>\n",
              "    </tr>\n",
              "    <tr>\n",
              "      <th>4</th>\n",
              "      <td>1/9/2012</td>\n",
              "      <td>322.04</td>\n",
              "      <td>322.29</td>\n",
              "      <td>309.46</td>\n",
              "      <td>620.76</td>\n",
              "      <td>11,688,800</td>\n",
              "    </tr>\n",
              "    <tr>\n",
              "      <th>5</th>\n",
              "      <td>1/10/2012</td>\n",
              "      <td>313.70</td>\n",
              "      <td>315.72</td>\n",
              "      <td>307.30</td>\n",
              "      <td>621.43</td>\n",
              "      <td>8,824,000</td>\n",
              "    </tr>\n",
              "  </tbody>\n",
              "</table>\n",
              "</div>\n",
              "    <div class=\"colab-df-buttons\">\n",
              "\n",
              "  <div class=\"colab-df-container\">\n",
              "    <button class=\"colab-df-convert\" onclick=\"convertToInteractive('df-0507bf70-cbbb-4ab7-aea6-8ae478840182')\"\n",
              "            title=\"Convert this dataframe to an interactive table.\"\n",
              "            style=\"display:none;\">\n",
              "\n",
              "  <svg xmlns=\"http://www.w3.org/2000/svg\" height=\"24px\" viewBox=\"0 -960 960 960\">\n",
              "    <path d=\"M120-120v-720h720v720H120Zm60-500h600v-160H180v160Zm220 220h160v-160H400v160Zm0 220h160v-160H400v160ZM180-400h160v-160H180v160Zm440 0h160v-160H620v160ZM180-180h160v-160H180v160Zm440 0h160v-160H620v160Z\"/>\n",
              "  </svg>\n",
              "    </button>\n",
              "\n",
              "  <style>\n",
              "    .colab-df-container {\n",
              "      display:flex;\n",
              "      gap: 12px;\n",
              "    }\n",
              "\n",
              "    .colab-df-convert {\n",
              "      background-color: #E8F0FE;\n",
              "      border: none;\n",
              "      border-radius: 50%;\n",
              "      cursor: pointer;\n",
              "      display: none;\n",
              "      fill: #1967D2;\n",
              "      height: 32px;\n",
              "      padding: 0 0 0 0;\n",
              "      width: 32px;\n",
              "    }\n",
              "\n",
              "    .colab-df-convert:hover {\n",
              "      background-color: #E2EBFA;\n",
              "      box-shadow: 0px 1px 2px rgba(60, 64, 67, 0.3), 0px 1px 3px 1px rgba(60, 64, 67, 0.15);\n",
              "      fill: #174EA6;\n",
              "    }\n",
              "\n",
              "    .colab-df-buttons div {\n",
              "      margin-bottom: 4px;\n",
              "    }\n",
              "\n",
              "    [theme=dark] .colab-df-convert {\n",
              "      background-color: #3B4455;\n",
              "      fill: #D2E3FC;\n",
              "    }\n",
              "\n",
              "    [theme=dark] .colab-df-convert:hover {\n",
              "      background-color: #434B5C;\n",
              "      box-shadow: 0px 1px 3px 1px rgba(0, 0, 0, 0.15);\n",
              "      filter: drop-shadow(0px 1px 2px rgba(0, 0, 0, 0.3));\n",
              "      fill: #FFFFFF;\n",
              "    }\n",
              "  </style>\n",
              "\n",
              "    <script>\n",
              "      const buttonEl =\n",
              "        document.querySelector('#df-0507bf70-cbbb-4ab7-aea6-8ae478840182 button.colab-df-convert');\n",
              "      buttonEl.style.display =\n",
              "        google.colab.kernel.accessAllowed ? 'block' : 'none';\n",
              "\n",
              "      async function convertToInteractive(key) {\n",
              "        const element = document.querySelector('#df-0507bf70-cbbb-4ab7-aea6-8ae478840182');\n",
              "        const dataTable =\n",
              "          await google.colab.kernel.invokeFunction('convertToInteractive',\n",
              "                                                    [key], {});\n",
              "        if (!dataTable) return;\n",
              "\n",
              "        const docLinkHtml = 'Like what you see? Visit the ' +\n",
              "          '<a target=\"_blank\" href=https://colab.research.google.com/notebooks/data_table.ipynb>data table notebook</a>'\n",
              "          + ' to learn more about interactive tables.';\n",
              "        element.innerHTML = '';\n",
              "        dataTable['output_type'] = 'display_data';\n",
              "        await google.colab.output.renderOutput(dataTable, element);\n",
              "        const docLink = document.createElement('div');\n",
              "        docLink.innerHTML = docLinkHtml;\n",
              "        element.appendChild(docLink);\n",
              "      }\n",
              "    </script>\n",
              "  </div>\n",
              "\n",
              "\n",
              "<div id=\"df-896e1af8-2298-4bdb-b667-0abf338985a9\">\n",
              "  <button class=\"colab-df-quickchart\" onclick=\"quickchart('df-896e1af8-2298-4bdb-b667-0abf338985a9')\"\n",
              "            title=\"Suggest charts.\"\n",
              "            style=\"display:none;\">\n",
              "\n",
              "<svg xmlns=\"http://www.w3.org/2000/svg\" height=\"24px\"viewBox=\"0 0 24 24\"\n",
              "     width=\"24px\">\n",
              "    <g>\n",
              "        <path d=\"M19 3H5c-1.1 0-2 .9-2 2v14c0 1.1.9 2 2 2h14c1.1 0 2-.9 2-2V5c0-1.1-.9-2-2-2zM9 17H7v-7h2v7zm4 0h-2V7h2v10zm4 0h-2v-4h2v4z\"/>\n",
              "    </g>\n",
              "</svg>\n",
              "  </button>\n",
              "\n",
              "<style>\n",
              "  .colab-df-quickchart {\n",
              "      --bg-color: #E8F0FE;\n",
              "      --fill-color: #1967D2;\n",
              "      --hover-bg-color: #E2EBFA;\n",
              "      --hover-fill-color: #174EA6;\n",
              "      --disabled-fill-color: #AAA;\n",
              "      --disabled-bg-color: #DDD;\n",
              "  }\n",
              "\n",
              "  [theme=dark] .colab-df-quickchart {\n",
              "      --bg-color: #3B4455;\n",
              "      --fill-color: #D2E3FC;\n",
              "      --hover-bg-color: #434B5C;\n",
              "      --hover-fill-color: #FFFFFF;\n",
              "      --disabled-bg-color: #3B4455;\n",
              "      --disabled-fill-color: #666;\n",
              "  }\n",
              "\n",
              "  .colab-df-quickchart {\n",
              "    background-color: var(--bg-color);\n",
              "    border: none;\n",
              "    border-radius: 50%;\n",
              "    cursor: pointer;\n",
              "    display: none;\n",
              "    fill: var(--fill-color);\n",
              "    height: 32px;\n",
              "    padding: 0;\n",
              "    width: 32px;\n",
              "  }\n",
              "\n",
              "  .colab-df-quickchart:hover {\n",
              "    background-color: var(--hover-bg-color);\n",
              "    box-shadow: 0 1px 2px rgba(60, 64, 67, 0.3), 0 1px 3px 1px rgba(60, 64, 67, 0.15);\n",
              "    fill: var(--button-hover-fill-color);\n",
              "  }\n",
              "\n",
              "  .colab-df-quickchart-complete:disabled,\n",
              "  .colab-df-quickchart-complete:disabled:hover {\n",
              "    background-color: var(--disabled-bg-color);\n",
              "    fill: var(--disabled-fill-color);\n",
              "    box-shadow: none;\n",
              "  }\n",
              "\n",
              "  .colab-df-spinner {\n",
              "    border: 2px solid var(--fill-color);\n",
              "    border-color: transparent;\n",
              "    border-bottom-color: var(--fill-color);\n",
              "    animation:\n",
              "      spin 1s steps(1) infinite;\n",
              "  }\n",
              "\n",
              "  @keyframes spin {\n",
              "    0% {\n",
              "      border-color: transparent;\n",
              "      border-bottom-color: var(--fill-color);\n",
              "      border-left-color: var(--fill-color);\n",
              "    }\n",
              "    20% {\n",
              "      border-color: transparent;\n",
              "      border-left-color: var(--fill-color);\n",
              "      border-top-color: var(--fill-color);\n",
              "    }\n",
              "    30% {\n",
              "      border-color: transparent;\n",
              "      border-left-color: var(--fill-color);\n",
              "      border-top-color: var(--fill-color);\n",
              "      border-right-color: var(--fill-color);\n",
              "    }\n",
              "    40% {\n",
              "      border-color: transparent;\n",
              "      border-right-color: var(--fill-color);\n",
              "      border-top-color: var(--fill-color);\n",
              "    }\n",
              "    60% {\n",
              "      border-color: transparent;\n",
              "      border-right-color: var(--fill-color);\n",
              "    }\n",
              "    80% {\n",
              "      border-color: transparent;\n",
              "      border-right-color: var(--fill-color);\n",
              "      border-bottom-color: var(--fill-color);\n",
              "    }\n",
              "    90% {\n",
              "      border-color: transparent;\n",
              "      border-bottom-color: var(--fill-color);\n",
              "    }\n",
              "  }\n",
              "</style>\n",
              "\n",
              "  <script>\n",
              "    async function quickchart(key) {\n",
              "      const quickchartButtonEl =\n",
              "        document.querySelector('#' + key + ' button');\n",
              "      quickchartButtonEl.disabled = true;  // To prevent multiple clicks.\n",
              "      quickchartButtonEl.classList.add('colab-df-spinner');\n",
              "      try {\n",
              "        const charts = await google.colab.kernel.invokeFunction(\n",
              "            'suggestCharts', [key], {});\n",
              "      } catch (error) {\n",
              "        console.error('Error during call to suggestCharts:', error);\n",
              "      }\n",
              "      quickchartButtonEl.classList.remove('colab-df-spinner');\n",
              "      quickchartButtonEl.classList.add('colab-df-quickchart-complete');\n",
              "    }\n",
              "    (() => {\n",
              "      let quickchartButtonEl =\n",
              "        document.querySelector('#df-896e1af8-2298-4bdb-b667-0abf338985a9 button');\n",
              "      quickchartButtonEl.style.display =\n",
              "        google.colab.kernel.accessAllowed ? 'block' : 'none';\n",
              "    })();\n",
              "  </script>\n",
              "</div>\n",
              "    </div>\n",
              "  </div>\n"
            ]
          },
          "metadata": {},
          "execution_count": 50
        }
      ]
    },
    {
      "cell_type": "code",
      "source": [
        "# Displaying Information About the Data\n",
        "data.info()"
      ],
      "metadata": {
        "colab": {
          "base_uri": "https://localhost:8080/"
        },
        "id": "GSJXUdLvbe0R",
        "outputId": "41e1e2ed-b3d2-4c86-b78c-5bdbb74359a5"
      },
      "execution_count": null,
      "outputs": [
        {
          "output_type": "stream",
          "name": "stdout",
          "text": [
            "<class 'pandas.core.frame.DataFrame'>\n",
            "RangeIndex: 1258 entries, 0 to 1257\n",
            "Data columns (total 6 columns):\n",
            " #   Column  Non-Null Count  Dtype  \n",
            "---  ------  --------------  -----  \n",
            " 0   Date    1258 non-null   object \n",
            " 1   Open    1258 non-null   float64\n",
            " 2   High    1258 non-null   float64\n",
            " 3   Low     1258 non-null   float64\n",
            " 4   Close   1258 non-null   object \n",
            " 5   Volume  1258 non-null   object \n",
            "dtypes: float64(3), object(3)\n",
            "memory usage: 59.1+ KB\n"
          ]
        }
      ]
    },
    {
      "cell_type": "code",
      "source": [
        "# Converting \"Close\" Column to Numeric Type\n",
        "\n",
        "data[\"Close\"] = pd.to_numeric(data.Close, errors='coerce')\n",
        "data = data.dropna()\n",
        "trainData = data.iloc[:, 4:5].values"
      ],
      "metadata": {
        "id": "W8kM5LKOcfyS"
      },
      "execution_count": null,
      "outputs": []
    },
    {
      "cell_type": "code",
      "source": [
        "# Displaying Information About the Data\n",
        "data.info()"
      ],
      "metadata": {
        "colab": {
          "base_uri": "https://localhost:8080/"
        },
        "id": "lKJN9PCcdBQU",
        "outputId": "fc64e008-d199-4b88-9efa-e4a3f025f012"
      },
      "execution_count": null,
      "outputs": [
        {
          "output_type": "stream",
          "name": "stdout",
          "text": [
            "<class 'pandas.core.frame.DataFrame'>\n",
            "Int64Index: 1149 entries, 0 to 1257\n",
            "Data columns (total 6 columns):\n",
            " #   Column  Non-Null Count  Dtype  \n",
            "---  ------  --------------  -----  \n",
            " 0   Date    1149 non-null   object \n",
            " 1   Open    1149 non-null   float64\n",
            " 2   High    1149 non-null   float64\n",
            " 3   Low     1149 non-null   float64\n",
            " 4   Close   1149 non-null   float64\n",
            " 5   Volume  1149 non-null   object \n",
            "dtypes: float64(4), object(2)\n",
            "memory usage: 62.8+ KB\n"
          ]
        }
      ]
    },
    {
      "cell_type": "code",
      "source": [
        "# Checking the Shape of Scaled \"trainData\"\n",
        "sc = MinMaxScaler(feature_range=(0,1))\n",
        "trainData = sc.fit_transform(trainData)\n",
        "# Verify data dimensions\n",
        "trainData.shape"
      ],
      "metadata": {
        "colab": {
          "base_uri": "https://localhost:8080/"
        },
        "id": "_s23gYgrdYOm",
        "outputId": "78681db3-551a-4dd6-d1ac-f830b995d31b"
      },
      "execution_count": null,
      "outputs": [
        {
          "output_type": "execute_result",
          "data": {
            "text/plain": [
              "(1149, 1)"
            ]
          },
          "metadata": {},
          "execution_count": 54
        }
      ]
    },
    {
      "cell_type": "code",
      "source": [
        "import numpy as np\n",
        "\n",
        "X_train = []\n",
        "y_train = []\n",
        "\n",
        "\n",
        "for i in range(60, len(trainData)):\n",
        "    X_train.append(trainData[i - 60:i, 0])\n",
        "    y_train.append(trainData[i, 0])\n",
        "\n",
        "# Convert the lists to NumPy arrays\n",
        "X_train, y_train = np.array(X_train), np.array(y_train)"
      ],
      "metadata": {
        "id": "obBFhZcKetWM"
      },
      "execution_count": null,
      "outputs": []
    },
    {
      "cell_type": "code",
      "source": [
        "X_train = np.reshape(X_train,(X_train.shape[0],X_train.shape[1],1))\n",
        "X_train.shape"
      ],
      "metadata": {
        "colab": {
          "base_uri": "https://localhost:8080/"
        },
        "id": "WCRO05JxgLFJ",
        "outputId": "5ac010ac-526e-49a6-fa18-21d451f98f43"
      },
      "execution_count": null,
      "outputs": [
        {
          "output_type": "execute_result",
          "data": {
            "text/plain": [
              "(1089, 60, 1)"
            ]
          },
          "metadata": {},
          "execution_count": 56
        }
      ]
    },
    {
      "cell_type": "code",
      "source": [
        "# Creating a Sequential LSTM Model\n",
        "model = Sequential()\n",
        "\n",
        "# Adding the First LSTM Layer with Dropout\n",
        "model.add(LSTM(units=100,return_sequences = True, input_shape = (X_train.shape[1],1)))\n",
        "model.add(Dropout(0.2))\n",
        "\n",
        "# Adding the Second LSTM Layer with Dropout\n",
        "model.add(LSTM(units=100,return_sequences =True))\n",
        "model.add(Dropout(0,2))\n",
        "\n",
        "# Adding the Third LSTM Layer with Dropout\n",
        "model.add(LSTM(units=100,return_sequences= True))\n",
        "model.add(Dropout(0.2))\n",
        "\n",
        "# Adding the Fourth LSTM Layer with Dropout\n",
        "model.add(LSTM(units=100,return_sequences= False))\n",
        "model.add(Dropout(0.2))\n",
        "\n",
        "# Adding the Output Dense Layer\n",
        "model.add(Dense(units =1))\n",
        "\n",
        "# Compiling the Model with Adam Optimizer and Mean Squared Error Loss\n",
        "model.compile(optimizer='adam',loss=\"mean_squard_error\")"
      ],
      "metadata": {
        "id": "8jNddpOxgyE_"
      },
      "execution_count": null,
      "outputs": []
    },
    {
      "cell_type": "code",
      "source": [
        "# Compiling the LSTM model with Adam optimizer and training for 20 epochs\n",
        "model.compile(optimizer='adam', loss='mean_squared_error')\n",
        "hist = model.fit(X_train , y_train , epochs = 20 , batch_size = 32 ,verbose = 2)"
      ],
      "metadata": {
        "colab": {
          "base_uri": "https://localhost:8080/"
        },
        "id": "6a2JqLPGi-1t",
        "outputId": "c83bea0d-9fae-40cd-be19-f3c6e90487b3"
      },
      "execution_count": null,
      "outputs": [
        {
          "output_type": "stream",
          "name": "stdout",
          "text": [
            "Epoch 1/20\n",
            "35/35 - 13s - loss: 0.0432 - 13s/epoch - 358ms/step\n",
            "Epoch 2/20\n",
            "35/35 - 4s - loss: 0.0119 - 4s/epoch - 114ms/step\n",
            "Epoch 3/20\n",
            "35/35 - 5s - loss: 0.0091 - 5s/epoch - 131ms/step\n",
            "Epoch 4/20\n",
            "35/35 - 4s - loss: 0.0085 - 4s/epoch - 117ms/step\n",
            "Epoch 5/20\n",
            "35/35 - 4s - loss: 0.0074 - 4s/epoch - 116ms/step\n",
            "Epoch 6/20\n",
            "35/35 - 5s - loss: 0.0068 - 5s/epoch - 149ms/step\n",
            "Epoch 7/20\n",
            "35/35 - 4s - loss: 0.0073 - 4s/epoch - 121ms/step\n",
            "Epoch 8/20\n",
            "35/35 - 4s - loss: 0.0071 - 4s/epoch - 115ms/step\n",
            "Epoch 9/20\n",
            "35/35 - 5s - loss: 0.0064 - 5s/epoch - 134ms/step\n",
            "Epoch 10/20\n",
            "35/35 - 4s - loss: 0.0079 - 4s/epoch - 115ms/step\n",
            "Epoch 11/20\n",
            "35/35 - 4s - loss: 0.0059 - 4s/epoch - 115ms/step\n",
            "Epoch 12/20\n",
            "35/35 - 5s - loss: 0.0066 - 5s/epoch - 133ms/step\n",
            "Epoch 13/20\n",
            "35/35 - 4s - loss: 0.0063 - 4s/epoch - 114ms/step\n",
            "Epoch 14/20\n",
            "35/35 - 4s - loss: 0.0059 - 4s/epoch - 116ms/step\n",
            "Epoch 15/20\n",
            "35/35 - 5s - loss: 0.0047 - 5s/epoch - 134ms/step\n",
            "Epoch 16/20\n",
            "35/35 - 4s - loss: 0.0047 - 4s/epoch - 114ms/step\n",
            "Epoch 17/20\n",
            "35/35 - 5s - loss: 0.0061 - 5s/epoch - 129ms/step\n",
            "Epoch 18/20\n",
            "35/35 - 4s - loss: 0.0047 - 4s/epoch - 119ms/step\n",
            "Epoch 19/20\n",
            "35/35 - 4s - loss: 0.0043 - 4s/epoch - 114ms/step\n",
            "Epoch 20/20\n",
            "35/35 - 5s - loss: 0.0068 - 5s/epoch - 134ms/step\n"
          ]
        }
      ]
    },
    {
      "cell_type": "code",
      "source": [
        "# Plotting the training loss over epochs\n",
        "plt.plot(hist.history['loss'])\n",
        "plt.title('Trainig Model Loss')\n",
        "plt.ylabel('Loss')\n",
        "plt.xlabel('Epoch')\n",
        "plt.legend(['train'], loc = 'upper left')\n",
        "plt.show()"
      ],
      "metadata": {
        "colab": {
          "base_uri": "https://localhost:8080/",
          "height": 472
        },
        "id": "9nkaXq9bwKap",
        "outputId": "8233c977-3366-48a0-b67a-f1267a2a3cd0"
      },
      "execution_count": null,
      "outputs": [
        {
          "output_type": "display_data",
          "data": {
            "text/plain": [
              "<Figure size 640x480 with 1 Axes>"
            ],
            "image/png": "[encoded data removed]"
          },
          "metadata": {}
        }
      ]
    },
    {
      "cell_type": "code",
      "source": [
        "# Preparing Test Data for LSTM Model\n",
        "\n",
        "# Reading and Preprocessing Test Data\n",
        "testData = pd.read_csv('Google_test_data.csv')\n",
        "testData[\"Close\"]=pd.to_numeric(testData.Close,errors='coerce')\n",
        "testData = testData.dropna()\n",
        "testData = testData.iloc[:,4:5]\n",
        "\n",
        "# Extracting Target Values for Test Data\n",
        "y_test = testData.iloc[60:,0:].values\n",
        "\n",
        "# Extracting and Scaling Input Data\n",
        "inputClosing = testData.iloc[:,0:].values\n",
        "inputClosing_scaled = sc.transform(inputClosing)\n",
        "inputClosing_scaled.shape\n",
        "\n",
        "# Defining Time Step and Preparing Sequences for Input\n",
        "X_test = []\n",
        "length = len(testData)\n",
        "timestep = 60\n",
        "for i in range (timestep,length):\n",
        "    X_test.append(inputClosing_scaled[i-timestep:i,0])\n",
        "X_test = np.array(X_test)\n",
        "X_test = np.reshape(X_test,(X_test.shape[0],X_test.shape[1],1))\n",
        "\n",
        "# Checking the Shape of the Prepared Test Data\n",
        "X_test.shape"
      ],
      "metadata": {
        "colab": {
          "base_uri": "https://localhost:8080/"
        },
        "id": "w4hGnM9mxhJd",
        "outputId": "b134d97c-fc60-4ce0-d2e8-23079deb0b2d"
      },
      "execution_count": null,
      "outputs": [
        {
          "output_type": "execute_result",
          "data": {
            "text/plain": [
              "(192, 60, 1)"
            ]
          },
          "metadata": {},
          "execution_count": 60
        }
      ]
    },
    {
      "cell_type": "code",
      "source": [
        "# Making Predictions Using the LSTM Model\n",
        "y_pred = model.predict(X_test)\n",
        "y_pred"
      ],
      "metadata": {
        "colab": {
          "base_uri": "https://localhost:8080/"
        },
        "id": "RWzGXicD0Mtl",
        "outputId": "f7f54ec8-9772-4275-c230-1982ad8c76e8"
      },
      "execution_count": null,
      "outputs": [
        {
          "output_type": "stream",
          "name": "stdout",
          "text": [
            "6/6 [==============================] - 1s 33ms/step\n"
          ]
        },
        {
          "output_type": "execute_result",
          "data": {
            "text/plain": [
              "array([[1.1813954],\n",
              "       [1.182604 ],\n",
              "       [1.1942773],\n",
              "       [1.2115141],\n",
              "       [1.2231215],\n",
              "       [1.2180775],\n",
              "       [1.1998314],\n",
              "       [1.179521 ],\n",
              "       [1.1700021],\n",
              "       [1.1710699],\n",
              "       [1.1662345],\n",
              "       [1.1553143],\n",
              "       [1.1460023],\n",
              "       [1.1375706],\n",
              "       [1.137626 ],\n",
              "       [1.1442055],\n",
              "       [1.1651398],\n",
              "       [1.1952761],\n",
              "       [1.2268605],\n",
              "       [1.2558552],\n",
              "       [1.2611787],\n",
              "       [1.2504056],\n",
              "       [1.2240223],\n",
              "       [1.1927242],\n",
              "       [1.1692677],\n",
              "       [1.160851 ],\n",
              "       [1.1644038],\n",
              "       [1.1682618],\n",
              "       [1.1611618],\n",
              "       [1.1490427],\n",
              "       [1.136103 ],\n",
              "       [1.1219234],\n",
              "       [1.1004616],\n",
              "       [1.0748326],\n",
              "       [1.0684241],\n",
              "       [1.0838417],\n",
              "       [1.1099463],\n",
              "       [1.1353056],\n",
              "       [1.1562864],\n",
              "       [1.1625185],\n",
              "       [1.1707976],\n",
              "       [1.1837778],\n",
              "       [1.200343 ],\n",
              "       [1.2155559],\n",
              "       [1.2247175],\n",
              "       [1.223412 ],\n",
              "       [1.2107764],\n",
              "       [1.2022202],\n",
              "       [1.2027925],\n",
              "       [1.2126231],\n",
              "       [1.2290192],\n",
              "       [1.2379056],\n",
              "       [1.2383626],\n",
              "       [1.233087 ],\n",
              "       [1.2309693],\n",
              "       [1.2271521],\n",
              "       [1.2184203],\n",
              "       [1.2156334],\n",
              "       [1.2281793],\n",
              "       [1.2491087],\n",
              "       [1.2764235],\n",
              "       [1.3068966],\n",
              "       [1.3239853],\n",
              "       [1.3204448],\n",
              "       [1.3021421],\n",
              "       [1.279325 ],\n",
              "       [1.2679441],\n",
              "       [1.2687066],\n",
              "       [1.2770538],\n",
              "       [1.2849245],\n",
              "       [1.2908176],\n",
              "       [1.292936 ],\n",
              "       [1.2867835],\n",
              "       [1.2797272],\n",
              "       [1.274926 ],\n",
              "       [1.2747556],\n",
              "       [1.2782562],\n",
              "       [1.2843529],\n",
              "       [1.2973799],\n",
              "       [1.3158076],\n",
              "       [1.3384461],\n",
              "       [1.3581264],\n",
              "       [1.3660578],\n",
              "       [1.3630404],\n",
              "       [1.3650017],\n",
              "       [1.3788365],\n",
              "       [1.3985022],\n",
              "       [1.4136686],\n",
              "       [1.4204762],\n",
              "       [1.4201596],\n",
              "       [1.420781 ],\n",
              "       [1.4318365],\n",
              "       [1.4512501],\n",
              "       [1.4621555],\n",
              "       [1.457805 ],\n",
              "       [1.4411904],\n",
              "       [1.4172271],\n",
              "       [1.3928071],\n",
              "       [1.3756335],\n",
              "       [1.374663 ],\n",
              "       [1.3875012],\n",
              "       [1.4074907],\n",
              "       [1.4297748],\n",
              "       [1.4457872],\n",
              "       [1.4522824],\n",
              "       [1.4491649],\n",
              "       [1.4426699],\n",
              "       [1.4374359],\n",
              "       [1.4391884],\n",
              "       [1.4467697],\n",
              "       [1.4579216],\n",
              "       [1.4716272],\n",
              "       [1.4839321],\n",
              "       [1.4964682],\n",
              "       [1.5124053],\n",
              "       [1.5245639],\n",
              "       [1.5330005],\n",
              "       [1.5405288],\n",
              "       [1.551751 ],\n",
              "       [1.527479 ],\n",
              "       [1.4728084],\n",
              "       [1.4112482],\n",
              "       [1.3703458],\n",
              "       [1.3559904],\n",
              "       [1.3559607],\n",
              "       [1.3594698],\n",
              "       [1.3615696],\n",
              "       [1.3628991],\n",
              "       [1.3535154],\n",
              "       [1.3337713],\n",
              "       [1.3263743],\n",
              "       [1.3379842],\n",
              "       [1.3549522],\n",
              "       [1.3610551],\n",
              "       [1.3596087],\n",
              "       [1.355736 ],\n",
              "       [1.3488386],\n",
              "       [1.3386711],\n",
              "       [1.3284293],\n",
              "       [1.314923 ],\n",
              "       [1.301499 ],\n",
              "       [1.2867482],\n",
              "       [1.2518815],\n",
              "       [1.2116457],\n",
              "       [1.1754614],\n",
              "       [1.1506114],\n",
              "       [1.1450967],\n",
              "       [1.1592396],\n",
              "       [1.1835473],\n",
              "       [1.2076739],\n",
              "       [1.229012 ],\n",
              "       [1.2440615],\n",
              "       [1.2541437],\n",
              "       [1.2632325],\n",
              "       [1.270757 ],\n",
              "       [1.278365 ],\n",
              "       [1.288173 ],\n",
              "       [1.2960839],\n",
              "       [1.29112  ],\n",
              "       [1.2740743],\n",
              "       [1.2515224],\n",
              "       [1.2323173],\n",
              "       [1.2255268],\n",
              "       [1.233771 ],\n",
              "       [1.2537835],\n",
              "       [1.2800931],\n",
              "       [1.3000164],\n",
              "       [1.3121881],\n",
              "       [1.3224168],\n",
              "       [1.3323667],\n",
              "       [1.3407699],\n",
              "       [1.3478829],\n",
              "       [1.3538411],\n",
              "       [1.3555223],\n",
              "       [1.3533357],\n",
              "       [1.3438793],\n",
              "       [1.3333304],\n",
              "       [1.328003 ],\n",
              "       [1.325386 ],\n",
              "       [1.3222657],\n",
              "       [1.3566027],\n",
              "       [1.413534 ],\n",
              "       [1.464666 ],\n",
              "       [1.4931837],\n",
              "       [1.4970974],\n",
              "       [1.480466 ],\n",
              "       [1.4410359],\n",
              "       [1.4009492],\n",
              "       [1.3734899],\n",
              "       [1.3713573],\n",
              "       [1.3815259],\n",
              "       [1.389635 ]], dtype=float32)"
            ]
          },
          "metadata": {},
          "execution_count": 61
        }
      ]
    },
    {
      "cell_type": "code",
      "source": [
        "# Inversely transforming the predicted prices to their original scale\n",
        "predicted_price = sc.inverse_transform(y_pred)"
      ],
      "metadata": {
        "id": "hlTTNKgt0l8l"
      },
      "execution_count": null,
      "outputs": []
    },
    {
      "cell_type": "code",
      "source": [
        "# Plotting actual and predicted stock prices for Google\n",
        "plt.plot(y_test,color = 'red',label = 'Actual Stock Price')\n",
        "plt.plot(predicted_price , color = 'green' , label = 'Predicted Stock Price')\n",
        "plt.title('Google Stock Price Prediction')\n",
        "plt.xlabel('Time')\n",
        "plt.ylabel('Stock Price')\n",
        "plt.legend()\n",
        "plt.show()"
      ],
      "metadata": {
        "colab": {
          "base_uri": "https://localhost:8080/",
          "height": 472
        },
        "id": "xklmP4cO1_7Y",
        "outputId": "562264df-3725-4354-80da-79118e59cd0a"
      },
      "execution_count": null,
      "outputs": [
        {
          "output_type": "display_data",
          "data": {
            "text/plain": [
              "<Figure size 640x480 with 1 Axes>"
            ],
            "image/png": "[encoded data removed]"
          },
          "metadata": {}
        }
      ]
    }
  ]
}